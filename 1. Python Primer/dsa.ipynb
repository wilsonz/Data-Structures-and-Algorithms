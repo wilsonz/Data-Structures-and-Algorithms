{
 "cells": [
  {
   "cell_type": "markdown",
   "metadata": {
    "collapsed": true
   },
   "source": [
    "### This is an implementation of Data Structures and Algorithms"
   ]
  },
  {
   "cell_type": "code",
   "execution_count": null,
   "metadata": {},
   "outputs": [],
   "source": [
    "# computing the sum of a list of numbers\n",
    "# (build-in sum() function)\n",
    "total = 0\n",
    "for val in data:\n",
    "    total += val\n",
    "\n",
    "# finding the maximum value in a list of elements\n",
    "# (build-in max() function)\n",
    "biggest = data[0]\n",
    "for val in data:\n",
    "    if val > biggest:\n",
    "        biggest = val\n",
    "\n",
    "# find the index of the maximum element of a list\n",
    "big_index = 0\n",
    "for j in range(len(data)):\n",
    "    if data[j] > data[big_index]:\n",
    "        big_index = j"
   ]
  },
  {
   "cell_type": "code",
   "execution_count": null,
   "metadata": {},
   "outputs": [],
   "source": [
    "###################################################################\n",
    "# Define a Function\n",
    "#\n",
    "def count(data, target):\n",
    "    n = 0\n",
    "    for item in data:\n",
    "        if item == target:  # found a match\n",
    "            n += 1\n",
    "    return n\n",
    "\n",
    "# objects that passing to and from a function are not copied\n",
    "\n",
    "# mutable parameter\n",
    "def scale(data, factor):\n",
    "    for j in range(len(data)):\n",
    "        data[j] *= factor\n",
    "\n",
    "# open a file\n",
    "# open(), return a proxy for interactions with the underlying file"
   ]
  },
  {
   "cell_type": "code",
   "execution_count": null,
   "metadata": {},
   "outputs": [],
   "source": [
    "###################################################################\n",
    "# 1.7 Exception Handling\n",
    "# to be continued\n",
    "\n",
    "#####################################################################\n",
    "# iterator\n",
    "# an object that manages an iteration through a series of values.\n",
    "\n",
    "# iterable\n",
    "# an object, obj, that produces an iterator via the syntax iter (obj).\n",
    "\n",
    "# the for-loop syntax in Python simply automate the iteration process,\n",
    "# creating an iterator for the give iterable, and then repeatedly calling\n",
    "# for the next element until catching the StopIteration exception\n",
    "\n",
    "# Python also supports functions and classes that produce an implicit\n",
    "# implicit iterable series of values, that is, without constructing a\n",
    "# data structure to store all of its values at once.\n",
    "# For example, range(10000), does NOT return a list of numbers;\n",
    "# it returns a range object that is iterable.\n",
    "\n",
    "# generator\n",
    "# use yield, instead of return, and not both\n",
    "# the results are only computed if requested,\n",
    "# and the entire series need not reside in memory at one time.\n",
    "\n",
    "# Conditional expression\n",
    "# itself can serve as a parameter to the function\n",
    "result = foo(n if n >= 0 else -n)\n",
    "\n",
    "# Comprehension syntax\n",
    "#\n",
    "# list comprehension\n",
    "squares = [k*k for k in range(1, n+1)]\n",
    "# set comprehension\n",
    "{ k*k for k in range(1, n+1) }\n",
    "\n",
    "# generator comprehension\n",
    "( k*k for k in range(1, n+1) )\n",
    "\n",
    "# dictionary comprehension\n",
    "{k: k*k for k in range(1, n+1) }\n",
    "\n",
    "\n",
    "##\n",
    "# If a series of comma-separated expressions are given in a larger context,\n",
    "# they will be treated as a single tuple, even if no enclosing parentheses\n",
    "data = 2,3,4,6,8\n",
    "# assigned tuple(2,3,4,6,8)\n",
    "# this is called automatic packing of tuple\n",
    "\n",
    "##\n",
    "# simultaneous assignments\n",
    "def fibonacci():\n",
    "    a, b = 0, 1\n",
    "    while True:\n",
    "        yield a\n",
    "        a, b = b, a+b"
   ]
  }
 ],
 "metadata": {
  "kernelspec": {
   "display_name": "Python 2",
   "language": "python",
   "name": "python2"
  },
  "language_info": {
   "codemirror_mode": {
    "name": "ipython",
    "version": 2
   },
   "file_extension": ".py",
   "mimetype": "text/x-python",
   "name": "python",
   "nbconvert_exporter": "python",
   "pygments_lexer": "ipython2",
   "version": "2.7.6"
  }
 },
 "nbformat": 4,
 "nbformat_minor": 0
}
