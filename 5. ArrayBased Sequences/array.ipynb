{
 "cells": [
  {
   "cell_type": "markdown",
   "metadata": {},
   "source": [
    "## Referential Arrays "
   ]
  },
  {
   "cell_type": "markdown",
   "metadata": {},
   "source": [
    "### At the lowest level, what is stored is a consecutive sequence of memory addresses at which the elements of the sequence reside."
   ]
  },
  {
   "cell_type": "markdown",
   "metadata": {},
   "source": [
    "<img src='5.4.png'>"
   ]
  },
  {
   "cell_type": "markdown",
   "metadata": {},
   "source": [
    "#### Although the relative size of the individual elements may very, the number of bits used to store the memory address of each element is fixed. \n",
    "#### In this way, Python can support constant-time access to a list or tuple element based on its index."
   ]
  },
  {
   "cell_type": "markdown",
   "metadata": {},
   "source": [
    "### When you compute a slice of a list, the result is a new list instance, but that new list has references to the same elements that are in the original list, as portrayed in Figure 5.5."
   ]
  },
  {
   "cell_type": "markdown",
   "metadata": {},
   "source": [
    "<img src='5.5.png'>"
   ]
  },
  {
   "cell_type": "markdown",
   "metadata": {},
   "source": [
    "### When the elements of the list are immutable objects, as with the integer in- stances in Figure 5.5，the command temp[2] = 15 changes the reference in cell 2 of the temp list to reference a different object, as in figure 5.6"
   ]
  },
  {
   "cell_type": "markdown",
   "metadata": {},
   "source": [
    "<img src='5.6.png'>"
   ]
  },
  {
   "cell_type": "markdown",
   "metadata": {},
   "source": [
    "### To initialize an array of integers using a syntax such as counters = [0] * 8. This syntax produces a list of length eight, with all eight elements being the value zero. Technically, all eight cells of the list reference the same object, as portrayed in Figure 5.7."
   ]
  },
  {
   "cell_type": "markdown",
   "metadata": {},
   "source": [
    "<img src='5.7.png'>"
   ]
  },
  {
   "cell_type": "markdown",
   "metadata": {},
   "source": [
    "### Since the referenced integer is immutable, counters[2] += 1 does not technically change the value of the existing integer instance. This computes a new integer, with value 0 + 1, and sets cell 2 to reference the newly computed value. The resulting configuration is shown in Figure 5.8."
   ]
  },
  {
   "cell_type": "markdown",
   "metadata": {},
   "source": [
    "<img src='5.8.png'>"
   ]
  },
  {
   "cell_type": "markdown",
   "metadata": {},
   "source": [
    "### The extended list does not receive copies of those elements, it receives references to those elements. Figure 5.9 portrays the effect of a call to extend."
   ]
  },
  {
   "cell_type": "markdown",
   "metadata": {},
   "source": [
    "<img src='5.9.png'>"
   ]
  },
  {
   "cell_type": "markdown",
   "metadata": {},
   "source": [
    "## Dynamic Arrays"
   ]
  },
  {
   "cell_type": "code",
   "execution_count": 2,
   "metadata": {},
   "outputs": [],
   "source": [
    "# byte = 8 bits\n",
    "# An implementation of a DynamicArray class\n",
    "# using a raw array from the ctypes module as storage\n",
    "\n",
    "import ctypes\n",
    "\n",
    "class DynamicArray:\n",
    "    \"\"\"A dynamic array class akin to a simplified Python list.\"\"\"\n",
    "    def __init__(self):\n",
    "        \"\"\"Create an empty array.\"\"\"\n",
    "        self._n = 0                                         # count actual element\n",
    "        self._capacity = 1                                  # default array capacity\n",
    "        self._A = self._make_array(self._capacity)          # low-level array\n",
    "        \n",
    "    def __len__(self):\n",
    "        \"\"\"Rturn number of elements stored in the array.\"\"\"\n",
    "        return self._n\n",
    "\n",
    "    def __getitem__(self, k):\n",
    "        \"\"\"Return element at index k.\"\"\"\n",
    "        if not 0 <= k < self._n:\n",
    "            raise indexError('invalid index')\n",
    "        return self._A[k]                                   # retrieve from array\n",
    "    \n",
    "    def append(self, obj):\n",
    "        \"\"\"Add object to end of the array\"\"\"\n",
    "        if self._n == self._capacity:                       # not enough room\n",
    "            self._resize(2 * self._capacity)                # so double capacity\n",
    "        self._A[self._n] = obj\n",
    "        self._n += 1\n",
    "        \n",
    "    def _resize(self, c):                                   # nonpublic utility\n",
    "        \"\"\"Resize internal array to capacity c.\"\"\"\n",
    "        B = self._make_array(c)                             # new (bigger) array\n",
    "        for k in range(self._n):                            # for each existing value\n",
    "            B[k] = self._A[k]\n",
    "        self._A = B                                         # use the bigger array\n",
    "        self._capacity = c\n",
    "        \n",
    "    def _make_array(self, c):                               # nonpublic utility\n",
    "        \"\"\"Return new array with capacity c.\"\"\"\n",
    "        return (c * ctypes.py_object)()                     # see ctypes documentation"
   ]
  },
  {
   "cell_type": "markdown",
   "metadata": {},
   "source": [
    "#### Linear time to composing a string"
   ]
  },
  {
   "cell_type": "code",
   "execution_count": null,
   "metadata": {},
   "outputs": [],
   "source": [
    "letters = ''.join(c for c in doc if c.isalpha())"
   ]
  },
  {
   "cell_type": "markdown",
   "metadata": {},
   "source": [
    "### Adding an Entry"
   ]
  },
  {
   "cell_type": "code",
   "execution_count": null,
   "metadata": {},
   "outputs": [],
   "source": [
    "def add(self, entry):\n",
    "    \"\"\"Return string representation of the high score list\"\"\"\n",
    "    score = entry.get_score()\n",
    "    \n",
    "    # does new entry qualify as a high score?\n",
    "    # Yes if board noto full or score is higher than last entry\n",
    "    good = self._n < len(self._board) or score > self._board[-1].get_score()\n",
    "    if good:\n",
    "        if self._n < len(self._board):     # no score drop from list\n",
    "            self._n += 1                   # overall number increases\n",
    "            \n",
    "        # shift lower scores rightward to make room for new entry\n",
    "        j = self._n - 1\n",
    "        while j > 0 and self._board[j-1].get_score() < score:\n",
    "            self._board[j] = self._board[j-1]     # shift entry from j-1 to j\n",
    "            j -= 1                                # and decrement j\n",
    "        self._board[j] = entry                    # when done, add new entry"
   ]
  },
  {
   "cell_type": "markdown",
   "metadata": {},
   "source": [
    "### Insertion-Sort Algorithm     $O(n^2)$"
   ]
  },
  {
   "cell_type": "code",
   "execution_count": null,
   "metadata": {},
   "outputs": [],
   "source": [
    "def insertion_sort(A):\n",
    "    \"\"\"Sort list of comparable elements into nondecreasing order\"\"\"\n",
    "    for k in range(1, len(A)):              # starting from the 2nd element of the list\n",
    "        cur = A[k]                          # current element to be inserted\n",
    "        j = k                               # find correct index j for current\n",
    "        while j > 0 and A[j-1] > cur:       # element A[j-1] must be after current\n",
    "            A[j] = A[j-1]\n",
    "            j -= 1\n",
    "        A[j] = cur                          # insert cur in the right place"
   ]
  },
  {
   "cell_type": "markdown",
   "metadata": {},
   "source": [
    "### Constructing a Multidimensional List, a Matrix\n",
    "#### To properly initialize a 2D list, we must ensure that each cell of the primary list refers to an $independent$ instance of a secondary list."
   ]
  },
  {
   "cell_type": "code",
   "execution_count": null,
   "metadata": {},
   "outputs": [],
   "source": [
    "data = [[0]*c for j in range(r)]"
   ]
  },
  {
   "cell_type": "markdown",
   "metadata": {},
   "source": [
    "<img src=\"5.24.png\" />"
   ]
  },
  {
   "cell_type": "markdown",
   "metadata": {},
   "source": [
    "#### By using list comprehension, the expression [0]*c is reevaluated for each pass of the embedded for-loop. Therefore, we get r distinct secondary lists, as desired."
   ]
  }
 ],
 "metadata": {
  "kernelspec": {
   "display_name": "Python 3",
   "language": "python",
   "name": "python3"
  },
  "language_info": {
   "codemirror_mode": {
    "name": "ipython",
    "version": 3
   },
   "file_extension": ".py",
   "mimetype": "text/x-python",
   "name": "python",
   "nbconvert_exporter": "python",
   "pygments_lexer": "ipython3",
   "version": "3.6.3"
  }
 },
 "nbformat": 4,
 "nbformat_minor": 2
}
