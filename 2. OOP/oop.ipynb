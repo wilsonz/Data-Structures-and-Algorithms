{
 "cells": [
  {
   "cell_type": "markdown",
   "metadata": {
    "collapsed": true
   },
   "source": [
    "### this is review of Object-Oriented Programming"
   ]
  },
  {
   "cell_type": "markdown",
   "metadata": {},
   "source": [
    "## Object-Oriented Design Principles\n",
    "* **Modularity**\n",
    "* **Abstraction**\n",
    "* **Encapsulation**"
   ]
  },
  {
   "cell_type": "code",
   "execution_count": null,
   "metadata": {},
   "outputs": [],
   "source": [
    "# example: CreditCard Class\n",
    "class CreditCard:\n",
    "    \"\"\"A consumer credit card.\"\"\"\n",
    "    \n",
    "    def __init__(self, customer, bank, acnt, limit):\n",
    "        \"\"\"Create a new credit card instance.\n",
    "        The initial balance is zero\n",
    "        customer    the name of the customer(e.e., 'Euph Zh')\n",
    "        bank        the name of the bank(e.g., 'BOA')\n",
    "        acnt        the acount identifier(e.g., '1234 5678 ...')\n",
    "        limit       credit limit(measured in dollars)\n",
    "        \"\"\"\n",
    "        self._customer = customer\n",
    "        self._bank = bank\n",
    "        self._account = acnt\n",
    "        self._limit = limit\n",
    "        self._balance = 0\n",
    "        \n",
    "    def get_customer(self):\n",
    "        \"\"\"Return name of the customer\"\"\"\n",
    "        return self._customer\n",
    "    \n",
    "    def get_bank(self):\n",
    "        \"\"\"Return the bank's name\"\"\"\n",
    "        return self._bank\n",
    "    \n",
    "    def get_account(self):\n",
    "        \"\"\"Return the card identifying number (typically stored as a string)\"\"\"\n",
    "        return self._account\n",
    "    \n",
    "    def get_limit(self):\n",
    "        \"\"\"Return current credit limit\"\"\"\n",
    "        return self._limit\n",
    "    \n",
    "    def get_balance(self):\n",
    "        \"\"\"Return current balance\"\"\"\n",
    "        return self._balance\n",
    "    \n",
    "    def charge(self, price):\n",
    "        \"\"\"Charge given price to the card, assuming suddicient credit limit.\n",
    "        Return True if charge was processed; False if charge was denied.\"\"\"\n",
    "        if price + self._balance > self._limit:    # if charge would exceed limit\n",
    "            return False                           # cannot accept charge\n",
    "        else:\n",
    "            self._balance += price\n",
    "            return True\n",
    "        \n",
    "    def make_payment(self,amount):\n",
    "        \"\"\"Process customer payment that reduces balance\"\"\"\n",
    "        self._balance -= amount"
   ]
  },
  {
   "cell_type": "markdown",
   "metadata": {},
   "source": [
    "### A single leading underscore in the name of a data member, such as _balance, implies that\n",
    "### it is intended as **nonpublic**\n",
    "### As a general rule, we will treat all data members as nonpublic."
   ]
  },
  {
   "cell_type": "code",
   "execution_count": null,
   "metadata": {},
   "outputs": [],
   "source": [
    "# Test the Class\n",
    "if __name__ == '__main__':\n",
    "    wallet = []\n",
    "    wallet.append(CreditCard('Euph Z','BOA','0123 4567 8901 2345'))\n",
    "    wallet.append(CreditCard('Euph Z','HSBC','4567 8901 2345 6789'))\n",
    "    wallet.append(CreditCard('Euph Z','CHASE','8901 2345 6789 0123'))\n",
    "    \n",
    "    for val in range(1,17):\n",
    "        wallet[0].charge(val)\n",
    "        wallet[1].charge(2*val)\n",
    "        wallet[2].charge(3*val)\n",
    "        \n",
    "    for c in range(3):\n",
    "        print('Customer =', wallet[c].get_customer())\n",
    "        print('Bank =', wallet[c].get_bank())\n",
    "        print('Account =', wallet[c].get_account())\n",
    "        print('Limit =', wallet[c].get_limit())\n",
    "        print('Balance =', wallet[c].get_balance())\n",
    "        while wallet[c].get_balance() > 100:\n",
    "            wallet[c].make_payment(100)\n",
    "            print('New balance =', wallet[c].get_balance())\n",
    "        print ()"
   ]
  },
  {
   "cell_type": "markdown",
   "metadata": {},
   "source": [
    "### Operator Overloading\n",
    "#### Implementing a specially named method"
   ]
  },
  {
   "cell_type": "code",
   "execution_count": null,
   "metadata": {},
   "outputs": [],
   "source": [
    "# example: Multidimensinal Vector Class\n",
    "class Vector:\n",
    "    \"\"\"Represent a vector in a multidimensional space\"\"\"\n",
    "    \n",
    "    def __init__(self, d):\n",
    "        \"\"\"Create d-dimensional vector of zeros.\"\"\"\n",
    "        self._coords = [0] * d\n",
    "        \n",
    "    def __len__(self):\n",
    "        \"\"\"Return the dimension of the vector.\"\"\"\n",
    "        return len(self._coords)\n",
    "    \n",
    "    def __getitem__(self,j):\n",
    "        \"\"\"Return jth coordinate of vector\"\"\"\n",
    "        return self._coords[j]\n",
    "    \n",
    "    def __setitem__(self, j, val):\n",
    "        \"\"\"Set jth coordinate of vector to given value\"\"\"\n",
    "        self._coords[j] = val\n",
    "        \n",
    "    def __add__(self, other):\n",
    "        \"\"\"Return sum of two vectors\"\"\"\n",
    "        if len(self) != len(other)\n",
    "            raise ValueError('dimensiona must agree')\n",
    "        result = Vector(len(self))            # start with vector of zeros\n",
    "        for j in range(len(self)):\n",
    "            result[j] = self[j] + other[j]\n",
    "        return result\n",
    "    \n",
    "    def __eq__(self, other):\n",
    "        \"\"\"Return True if vector has same coorinates as other\"\"\"\n",
    "        return seld._coords == other._coords\n",
    "    \n",
    "    def __ne__(self, other):\n",
    "        \"\"\"Return True if vector differs from other\"\"\"\n",
    "        return not self == other\n",
    "    \n",
    "    def __str__(self):\n",
    "        \"\"\"Produce string representation of vector\"\"\"\n",
    "        return '<' + str(self._coords)[1:-1] + '>'   # adapt list representation"
   ]
  },
  {
   "cell_type": "markdown",
   "metadata": {},
   "source": [
    "### Inheritance\n",
    "* A subclass may **specialize** an existing behavior by providing a new implementation that\n",
    "      **overrides** an existing method.\n",
    "* A subclass may also **extend** its superclass by providing brand new methods"
   ]
  },
  {
   "cell_type": "code",
   "execution_count": null,
   "metadata": {},
   "outputs": [],
   "source": [
    "# Extending the CreditCard Class\n",
    "\n",
    "class PredatoryCreditCard(CreditCard):\n",
    "    \"\"\"An extension to CreditCard that compounds interest and fees.\"\"\"\n",
    "    \n",
    "    def __init__(self, customer, bank, acnt, limit, apr):\n",
    "        \"\"\"Create a new predatory credit card instance.\n",
    "        The initial balance is zero\n",
    "        customer\n",
    "        bank\n",
    "        acnt\n",
    "        limit\n",
    "        apr      annual percentage rate(e.g., 0.0825 for 8.25% APR)\n",
    "        \"\"\"\n",
    "        super().__init__(customer, bank, acnt, limit)  # call super constructor\n",
    "        self._apr = apr\n",
    "        \n",
    "    def charge(self, price):\n",
    "        \"\"\"Charge given price to the card, assuming sufficient credit limit.\n",
    "        Return True if charge was processed.\n",
    "        Return False and assess $5 fee if charge is denied.\n",
    "        \"\"\"\n",
    "        success = super().charge(price)       # call inherited method\n",
    "        if not success:\n",
    "            self._balance += 5                # assess penalty\n",
    "        return success\n",
    "    \n",
    "    def process_month(self):\n",
    "        \"\"\"Assess monthly interest on outstanding balance.\"\"\"\n",
    "        if self._balance > 0:\n",
    "            # if positive balance, convert APR to monthly multiplicative factor\n",
    "            monthly_factor = pow(1+self._apr, 1/12)\n",
    "            self._balance *= monthly_factor"
   ]
  },
  {
   "cell_type": "markdown",
   "metadata": {},
   "source": [
    "#### Names beginning with a **single** underscore are conventionally akin to protected\n",
    "#### while names beginning with a **double** underscore(other than special methods) are akin to private"
   ]
  },
  {
   "cell_type": "markdown",
   "metadata": {},
   "source": [
    "## Abstract Base Classes\n",
    "#### its only purpose is to serve as a base class through inheritance.",
    "\n",
    "\n",
    "\n",
    "\n"
   ]
  }
 ],
 "metadata": {
  "kernelspec": {
   "display_name": "Python 2",
   "language": "python",
   "name": "python2"
  },
  "language_info": {
   "codemirror_mode": {
    "name": "ipython",
    "version": 2
   },
   "file_extension": ".py",
   "mimetype": "text/x-python",
   "name": "python",
   "nbconvert_exporter": "python",
   "pygments_lexer": "ipython2",
   "version": "2.7.6"
  }
 },
 "nbformat": 4,
 "nbformat_minor": 0
}
