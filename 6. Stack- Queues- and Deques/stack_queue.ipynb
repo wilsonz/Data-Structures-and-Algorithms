{
 "cells": [
  {
   "cell_type": "markdown",
   "metadata": {},
   "source": [
    "## Implementation of Stack, Queues, and Deques"
   ]
  },
  {
   "cell_type": "markdown",
   "metadata": {},
   "source": [
    "### (1) Stack Abstract Data Type\n",
    "#### The list class already supports adding an element to the end with the append method, and removing the last element with the pop method"
   ]
  },
  {
   "cell_type": "markdown",
   "metadata": {},
   "source": [
    "| Stack Method | Realization with Python List |\n",
    "|: ----------- |: --------------------------- |\n",
    "| S.push(e) | L.append(e) |"
   ]
  },
  {
   "cell_type": "markdown",
   "metadata": {},
   "source": [
    "### LIFO Stack implementation using a Python list as underlying storage."
   ]
  },
  {
   "cell_type": "code",
   "execution_count": null,
   "metadata": {},
   "outputs": [],
   "source": [
    "class Empty(Exception):\n",
    "    \"\"\"Error attempting to access an element from an empty container\"\"\"\n",
    "    pass\n",
    "\n",
    "class ArrayStack:\n",
    "    def __init__(self):\n",
    "        \"\"\"Create a empty stack\"\"\"\n",
    "        self._data = []        # nonpublic list instance\n",
    "    \n",
    "    def __len__(self):\n",
    "        \"\"\"Return the # of elements in the stack\"\"\"\n",
    "        return len(self._data)\n",
    "    \n",
    "    def is_empty(self):\n",
    "        \"\"\"return True if the Stack is empty\"\"\"\n",
    "        return len(self._data) == 0\n",
    "    \n",
    "    def push(self, e):\n",
    "        \"\"\"Add element e to the top of the stack\"\"\"\n",
    "        self._data.append(e)        # new item stored at the end of list\n",
    "        \n",
    "    def top(self):\n",
    "        \"\"\"Return (but not remove) the element at the top of the stack\"\"\"\n",
    "        # raise Empty exception if the stack is empty\n",
    "        if self.is_empty():\n",
    "            raise Empty('Stack is empty')\n",
    "        return self._data[-1]        # the last item in the list\n",
    "    \n",
    "    def pop(self):\n",
    "        \"\"\"Remove and return the element from the top of the stack\"\"\"\n",
    "        # raise Empty exception if the stack is empty\n",
    "        if self.is_empty():\n",
    "            raise Empty('Stack is empty')\n",
    "        return self._data.pop()       # remove the last item from list"
   ]
  },
  {
   "cell_type": "markdown",
   "metadata": {},
   "source": [
    "### Reversing Data Using a Stack"
   ]
  },
  {
   "cell_type": "code",
   "execution_count": null,
   "metadata": {},
   "outputs": [],
   "source": [
    "def reverse_file(filename):\n",
    "    \"\"\"Overwrite given file with its contents line-by-line reversed.\"\"\"\n",
    "    S = ArrayStack()\n",
    "    original = open(filename)\n",
    "    for line in original:\n",
    "        S.push(line.rstrip('\\n'))         # will re-insert newlines when writing\n",
    "    original.close()\n",
    "    \n",
    "    # now we overwrite with contents with LIFO order\n",
    "    output = open(filename, 'w')          # reopening file overwrites original\n",
    "    while not S.is_empty():\n",
    "        output.write(S.pop() + '\\n')      # re-insert newline character\n",
    "    output.close()"
   ]
  },
  {
   "cell_type": "markdown",
   "metadata": {},
   "source": [
    "### Matching Delimiters - O(n)"
   ]
  },
  {
   "cell_type": "code",
   "execution_count": null,
   "metadata": {},
   "outputs": [],
   "source": [
    "def is_matched(expr):\n",
    "    \"\"\"Return True if all delimiters are properly match; False otherwise\"\"\"\n",
    "    lefty = '({['          # opening delimiters\n",
    "    righty = ')}]'         # respective closing delims\n",
    "    S = ArrayStack()\n",
    "    for c in expr:\n",
    "        if c in lefty:\n",
    "            S.push(c)\n",
    "        elif c in righty:\n",
    "            if S.is_empty():            # nothing to match with\n",
    "                return False    \n",
    "            if righty.index(c) != lefty.index(S.pop()):\n",
    "                return False            # mismatched\n",
    "    return S.is_empty()"
   ]
  },
  {
   "cell_type": "code",
   "execution_count": null,
   "metadata": {},
   "outputs": [],
   "source": [
    "def is_matched_html(raw):\n",
    "    \"\"\"Return True if all HTML tags are properly match; False otherwise.\"\"\"\n",
    "    S = ArrayStack()\n",
    "    j = raw.find('<')               # find first '<' if any\n",
    "    while j != -1:\n",
    "        k = raw.find('>',j+1)       # find next '>' character\n",
    "        if k == -1:\n",
    "            return False\n",
    "        tag = raw[j+1:k]            # strip away < >\n",
    "        if not tag.startswith('/'):         # this is opening tag\n",
    "            S.puch(tag)\n",
    "        else:                               # this is closing tag\n",
    "            if S.is_empty():\n",
    "                return False                \n",
    "            if tag[1:] != S.pop():          # mismatched delimiter\n",
    "                return False\n",
    "        j = raw.find('<',k+1)\n",
    "    return S.is_empty()"
   ]
  },
  {
   "cell_type": "markdown",
   "metadata": {},
   "source": [
    "### (2) Queues Abstract Data Type\n",
    "#### FIFO queue implementation using a Python List as underlying storage"
   ]
  },
  {
   "cell_type": "code",
   "execution_count": null,
   "metadata": {},
   "outputs": [],
   "source": [
    "class ArrayQueue:\n",
    "    DEFAULT_CAPACITY = 10       # moderate capacity"
   ]
  }
 ],
 "metadata": {
  "kernelspec": {
   "display_name": "Python 3",
   "language": "python",
   "name": "python3"
  },
  "language_info": {
   "codemirror_mode": {
    "name": "ipython",
    "version": 3
   },
   "file_extension": ".py",
   "mimetype": "text/x-python",
   "name": "python",
   "nbconvert_exporter": "python",
   "pygments_lexer": "ipython3",
   "version": "3.6.3"
  }
 },
 "nbformat": 4,
 "nbformat_minor": 2
}
