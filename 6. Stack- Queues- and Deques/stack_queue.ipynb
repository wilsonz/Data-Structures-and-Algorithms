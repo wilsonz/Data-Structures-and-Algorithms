{
 "cells": [
  {
   "cell_type": "markdown",
   "metadata": {},
   "source": [
    "## Implementation of Stack, Queues, and Deques"
   ]
  },
  {
   "cell_type": "markdown",
   "metadata": {},
   "source": [
    "## (1) Stack\n",
    "#### The list class already supports adding an element to the end with the append method, and removing the last element with the pop method"
   ]
  },
  {
   "cell_type": "markdown",
   "metadata": {},
   "source": [
    "| Stack Method | Realization with Python List |\n",
    "|: ----------- |: --------------------------- |\n",
    "| S.push(e) | L.append(e) |"
   ]
  },
  {
   "cell_type": "markdown",
   "metadata": {},
   "source": [
    "### LIFO Stack implementation using a Python list as underlying storage."
   ]
  },
  {
   "cell_type": "code",
   "execution_count": null,
   "metadata": {},
   "outputs": [],
   "source": [
    "class Empty(Exception):\n",
    "    \"\"\"Error attempting to access an element from an empty container\"\"\"\n",
    "    pass\n",
    "\n",
    "class ArrayStack:\n",
    "    def __init__(self):\n",
    "        \"\"\"Create a empty stack\"\"\"\n",
    "        self._data = []        # nonpublic list instance\n",
    "    \n",
    "    def __len__(self):\n",
    "        \"\"\"Return the # of elements in the stack\"\"\"\n",
    "        return len(self._data)\n",
    "    \n",
    "    def is_empty(self):\n",
    "        \"\"\"return True if the Stack is empty\"\"\"\n",
    "        return len(self._data) == 0\n",
    "    \n",
    "    def push(self, e):\n",
    "        \"\"\"Add element e to the top of the stack\"\"\"\n",
    "        self._data.append(e)        # new item stored at the end of list\n",
    "        \n",
    "    def top(self):\n",
    "        \"\"\"Return (but not remove) the element at the top of the stack\"\"\"\n",
    "        # raise Empty exception if the stack is empty\n",
    "        if self.is_empty():\n",
    "            raise Empty('Stack is empty')\n",
    "        return self._data[-1]        # the last item in the list\n",
    "    \n",
    "    def pop(self):\n",
    "        \"\"\"Remove and return the element from the top of the stack\"\"\"\n",
    "        # raise Empty exception if the stack is empty\n",
    "        if self.is_empty():\n",
    "            raise Empty('Stack is empty')\n",
    "        return self._data.pop()       # remove the last item from list"
   ]
  },
  {
   "cell_type": "markdown",
   "metadata": {},
   "source": [
    "### Reversing Data Using a Stack"
   ]
  },
  {
   "cell_type": "code",
   "execution_count": null,
   "metadata": {},
   "outputs": [],
   "source": [
    "def reverse_file(filename):\n",
    "    \"\"\"Overwrite given file with its contents line-by-line reversed.\"\"\"\n",
    "    S = ArrayStack()\n",
    "    original = open(filename)\n",
    "    for line in original:\n",
    "        S.push(line.rstrip('\\n'))         # will re-insert newlines when writing\n",
    "    original.close()\n",
    "    \n",
    "    # now we overwrite with contents with LIFO order\n",
    "    output = open(filename, 'w')          # reopening file overwrites original\n",
    "    while not S.is_empty():\n",
    "        output.write(S.pop() + '\\n')      # re-insert newline character\n",
    "    output.close()"
   ]
  },
  {
   "cell_type": "markdown",
   "metadata": {},
   "source": [
    "### Matching Delimiters - O(n)"
   ]
  },
  {
   "cell_type": "code",
   "execution_count": null,
   "metadata": {},
   "outputs": [],
   "source": [
    "def is_matched(expr):\n",
    "    \"\"\"Return True if all delimiters are properly match; False otherwise\"\"\"\n",
    "    lefty = '({['          # opening delimiters\n",
    "    righty = ')}]'         # respective closing delims\n",
    "    S = ArrayStack()\n",
    "    for c in expr:\n",
    "        if c in lefty:\n",
    "            S.push(c)\n",
    "        elif c in righty:\n",
    "            if S.is_empty():            # nothing to match with\n",
    "                return False    \n",
    "            if righty.index(c) != lefty.index(S.pop()):\n",
    "                return False            # mismatched\n",
    "    return S.is_empty()"
   ]
  },
  {
   "cell_type": "code",
   "execution_count": null,
   "metadata": {},
   "outputs": [],
   "source": [
    "def is_matched_html(raw):\n",
    "    \"\"\"Return True if all HTML tags are properly match; False otherwise.\"\"\"\n",
    "    S = ArrayStack()\n",
    "    j = raw.find('<')               # find first '<' if any\n",
    "    while j != -1:\n",
    "        k = raw.find('>',j+1)       # find next '>' character\n",
    "        if k == -1:\n",
    "            return False\n",
    "        tag = raw[j+1:k]            # strip away < >\n",
    "        if not tag.startswith('/'):         # this is opening tag\n",
    "            S.puch(tag)\n",
    "        else:                               # this is closing tag\n",
    "            if S.is_empty():\n",
    "                return False                \n",
    "            if tag[1:] != S.pop():          # mismatched delimiter\n",
    "                return False\n",
    "        j = raw.find('<',k+1)\n",
    "    return S.is_empty()"
   ]
  },
  {
   "cell_type": "markdown",
   "metadata": {},
   "source": [
    "## (2) Queues \n",
    "#### FIFO queue implementation using a Python List in circular fashion"
   ]
  },
  {
   "cell_type": "code",
   "execution_count": null,
   "metadata": {},
   "outputs": [],
   "source": [
    "class ArrayQueue:\n",
    "    DEFAULT_CAPACITY = 10       # moderate capacity for all new queues\n",
    "    \n",
    "    def __init__(self):\n",
    "        \"\"\"Create an empty queue\"\"\"\n",
    "        self._data = [None] * ArrayQueue.DEFAULT_CAPACITY\n",
    "        self._size = 0\n",
    "        self._front = 0\n",
    "        \n",
    "    def __len__(self):\n",
    "        \"\"\"Return the number of elements in the queue\"\"\"\n",
    "        return self._size\n",
    "    \n",
    "    def is_empty(self):\n",
    "        \"\"\"Retrun True if the queue is empty\"\"\"\n",
    "        return self._size == 0\n",
    "    \n",
    "    def first(self):\n",
    "        \"\"\"Return (but not remove) the element at the front of the queue.\n",
    "           Raise Empty exception if the queue is empty.\n",
    "        \"\"\"\n",
    "        if self.is_empty():\n",
    "            raise Empty('Queue is empty')\n",
    "        return self._data[self._front]\n",
    "    \n",
    "    def dequeue(self):\n",
    "        \"\"\"Remove and return the first element of the queue(i.e., FIFO).\n",
    "           Raise Empty exception if the queue is empty.\n",
    "        \"\"\"\n",
    "        if self.is_empty():\n",
    "            raise Empty('Queue is empty')\n",
    "        answer = self._data[self._front]\n",
    "        self._data[self._front] = None              # help garbage collection\n",
    "        self._front = (self._front + 1) % len(self._data)\n",
    "        self._size -= 1\n",
    "        \"\"\"Reduce the array to half of its current size whenever the # of elements\n",
    "           stored in it falls below 1/4 of its capacity\n",
    "        \"\"\"\n",
    "        if 0 < self._size < len(self._data)//4 :\n",
    "            self._resize(len(self._data) // 2)\n",
    "        return answer\n",
    "    \n",
    "    def enqueue(self, e):\n",
    "        \"\"\"Add an element to the back of the queue\"\"\"\n",
    "        if self._size == len(self._data):\n",
    "            self._resize(2 * len(self._data))       # double the array size\n",
    "        avail = (self._front + self._size) % len(self._data)        # proper index to place new element\n",
    "        self._data[avail] = e\n",
    "        self._size += 1\n",
    "        \n",
    "    def _resize(self, cap):     # we assume cap >= len(self)\n",
    "        \"\"\"Resize to a new list of capacity >= len(self).\"\"\"\n",
    "        old = self._data        # keep track of existing list\n",
    "        self._data = [None] * cap       # allocate list with new capacity\n",
    "        walk = self._front\n",
    "        for k in range(self._size):         # only consider existing elements\n",
    "            self._data[k] = old[walk]       # intentionally shift indices\n",
    "            walk = (1 + walk) % len(old)    # use old size as modulus\n",
    "        self._front = 0                     # front has been realigned"
   ]
  },
  {
   "cell_type": "markdown",
   "metadata": {},
   "source": [
    "## (3) Deque (double-ended queue, pronounced \"deck\")\n",
    "#### Implementing a Deque with a circular array"
   ]
  },
  {
   "cell_type": "code",
   "execution_count": null,
   "metadata": {},
   "outputs": [],
   "source": []
  }
 ],
 "metadata": {
  "kernelspec": {
   "display_name": "Python 3",
   "language": "python",
   "name": "python3"
  },
  "language_info": {
   "codemirror_mode": {
    "name": "ipython",
    "version": 3
   },
   "file_extension": ".py",
   "mimetype": "text/x-python",
   "name": "python",
   "nbconvert_exporter": "python",
   "pygments_lexer": "ipython3",
   "version": "3.6.3"
  }
 },
 "nbformat": 4,
 "nbformat_minor": 2
}
